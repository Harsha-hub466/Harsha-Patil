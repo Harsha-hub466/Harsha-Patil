{
  "nbformat": 4,
  "nbformat_minor": 0,
  "metadata": {
    "colab": {
      "provenance": [],
      "authorship_tag": "ABX9TyPLZ45iDirJD/031PPS3FZ9",
      "include_colab_link": true
    },
    "kernelspec": {
      "name": "python3",
      "display_name": "Python 3"
    },
    "language_info": {
      "name": "python"
    }
  },
  "cells": [
    {
      "cell_type": "markdown",
      "metadata": {
        "id": "view-in-github",
        "colab_type": "text"
      },
      "source": [
        "<a href=\"https://colab.research.google.com/github/Harsha-hub466/Harsha-Patil/blob/main/23cs513.ipynb\" target=\"_parent\"><img src=\"https://colab.research.google.com/assets/colab-badge.svg\" alt=\"Open In Colab\"/></a>"
      ]
    },
    {
      "cell_type": "code",
      "execution_count": null,
      "metadata": {
        "colab": {
          "base_uri": "https://localhost:8080/"
        },
        "id": "mIlr2ne4joE7",
        "outputId": "53d53996-351b-432e-9b90-629c99fdb1fb"
      },
      "outputs": [
        {
          "output_type": "stream",
          "name": "stdout",
          "text": [
            "   week      day  n_peop   bill      tip\n",
            "0     1  Tuesday    0.67  17.99   2.0000\n",
            "1     1  Tuesday    1.33  26.05   4.0000\n",
            "2     1  Tuesday    5.33  79.49  14.3082\n",
            "3     1  Tuesday    2.67  32.69   5.5000\n",
            "4     1  Tuesday    1.33  29.97   6.0000\n",
            "<class 'pandas.core.frame.DataFrame'>\n",
            "RangeIndex: 95 entries, 0 to 94\n",
            "Data columns (total 5 columns):\n",
            " #   Column  Non-Null Count  Dtype  \n",
            "---  ------  --------------  -----  \n",
            " 0   week    95 non-null     int64  \n",
            " 1   day     95 non-null     object \n",
            " 2   n_peop  95 non-null     float64\n",
            " 3   bill    95 non-null     float64\n",
            " 4   tip     95 non-null     float64\n",
            "dtypes: float64(3), int64(1), object(1)\n",
            "memory usage: 3.8+ KB\n",
            "None\n",
            "            week     n_peop        bill        tip\n",
            "count  95.000000  95.000000   95.000000  95.000000\n",
            "mean    1.873684   2.722737   41.195263   7.338684\n",
            "std     0.802153   2.191235   31.398526   5.890313\n",
            "min     1.000000   0.670000    4.980000   0.000000\n",
            "25%     1.000000   1.330000   21.005000   3.250000\n",
            "50%     2.000000   2.000000   29.970000   6.000000\n",
            "75%     3.000000   3.665000   53.215000   8.500000\n",
            "max     3.000000   9.330000  144.180000  25.952400\n"
          ]
        }
      ],
      "source": [
        "import pandas as pd\n",
        "df=pd.read_csv(\"/content/tips.csv\")\n",
        "print(df.head())\n",
        "print(df.info())\n",
        "print(df.describe())"
      ]
    },
    {
      "cell_type": "code",
      "source": [
        "import pandas as pd\n",
        "import matplotlib.pyplot as plt\n",
        "\n",
        "# Example DataFrame\n",
        "data = {\n",
        "    'tip': [2.5, 3.0, 4.2, 1.8, 3.5],\n",
        "    'bill': [20, 35, 45, 15, 30],\n",
        "    'week': [1, 2, 3, 1, 2]  # Integer values for weeks\n",
        "}\n",
        "df = pd.DataFrame(data)\n",
        "week_colors = {1: 'red', 2: 'blue', 3: 'green'}\n",
        "colors = df['week'].map(week_colors)\n",
        "x = df['tip']\n",
        "y = df['bill']\n",
        "plt.scatter(x, y, c=colors)\n",
        "plt.xlabel('Tip')\n",
        "plt.ylabel('Bill')\n",
        "plt.title('Scatter Plot for Tips Data Set')\n",
        "plt.show()\n"
      ],
      "metadata": {
        "colab": {
          "base_uri": "https://localhost:8080/",
          "height": 472
        },
        "id": "GKNOdA0zycTx",
        "outputId": "4208038a-6b03-4830-cc5a-c3cffdca223c"
      },
      "execution_count": null,
      "outputs": [
        {
          "output_type": "display_data",
          "data": {
            "text/plain": [
              "<Figure size 640x480 with 1 Axes>"
            ],
            "image/png": "[encoded data removed]"
          },
          "metadata": {}
        }
      ]
    },
    {
      "cell_type": "code",
      "source": [],
      "metadata": {
        "id": "ftmLjRZnL26T"
      },
      "execution_count": null,
      "outputs": []
    }
  ]
}